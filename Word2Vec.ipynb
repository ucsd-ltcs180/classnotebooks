{
 "cells": [
  {
   "attachments": {},
   "cell_type": "markdown",
   "metadata": {},
   "source": [
    "## word2vec\n",
    "\n",
    "In this lecture we will try to see how word vectors can improve the  vector represenation of a document"
   ]
  },
  {
   "cell_type": "code",
   "execution_count": 31,
   "metadata": {},
   "outputs": [],
   "source": [
    "\n",
    "corpus = [\"Jhon saw the bus coming\",\n",
    "\"John sees the buses approaching\",\n",
    "\"Maria watches the coach nearing\"]\n"
   ]
  },
  {
   "attachments": {},
   "cell_type": "markdown",
   "metadata": {},
   "source": [
    "### Hard represeantion of documents\n",
    "\n",
    "\n",
    "\n",
    "|      | Jhon | saw  | bus  | coming | John | sees | buses | approaching | Maria | watches | coach | nearing |\n",
    "| ---- | ---- | ---- | ---- | ------ | ---- | ---- | ----- | ----------- | ----- | ------- | ----- | ------- |\n",
    "| doc1 | 1    | 1    | 1    | 1      | 0    | 0    | 0     | 0           | 0     | 0       | 0     | 0       |\n",
    "| doc2 | 0    | 0    | 0    | 0      | 1    | 1    | 1     | 1           | 0     | 0       | 0     | 0       |\n",
    "| doc3 | 0    | 0    | 0    | 0      | 0    | 0    | 0     | 0           | 1     | 1       | 1     | 1       |"
   ]
  },
  {
   "attachments": {},
   "cell_type": "markdown",
   "metadata": {},
   "source": [
    "In the above matrix, the three documents seem to be very different, but they convey similar ideas. So, let's lemmatize the docs first and reduce the amount of tokens. "
   ]
  },
  {
   "cell_type": "code",
   "execution_count": 32,
   "metadata": {},
   "outputs": [
    {
     "name": "stderr",
     "output_type": "stream",
     "text": [
      "7209.07s - pydevd: Sending message related to process being replaced timed-out after 5 seconds\n"
     ]
    },
    {
     "name": "stdout",
     "output_type": "stream",
     "text": [
      "Collecting en-core-web-lg==3.5.0\n",
      "  Downloading https://github.com/explosion/spacy-models/releases/download/en_core_web_lg-3.5.0/en_core_web_lg-3.5.0-py3-none-any.whl (587.7 MB)\n",
      "\u001b[2K     \u001b[90m━━━━━━━━━━━━━━━━━━━━━━━━━━━━━━━━━━━━━━━\u001b[0m \u001b[32m587.7/587.7 MB\u001b[0m \u001b[31m1.2 MB/s\u001b[0m eta \u001b[36m0:00:00\u001b[0m00:01\u001b[0m00:01\u001b[0m\n",
      "\u001b[?25hRequirement already satisfied: spacy<3.6.0,>=3.5.0 in /usr/local/anaconda3/envs/ltcs180/lib/python3.10/site-packages (from en-core-web-lg==3.5.0) (3.5.0)\n",
      "Requirement already satisfied: smart-open<7.0.0,>=5.2.1 in /usr/local/anaconda3/envs/ltcs180/lib/python3.10/site-packages (from spacy<3.6.0,>=3.5.0->en-core-web-lg==3.5.0) (6.3.0)\n",
      "Requirement already satisfied: catalogue<2.1.0,>=2.0.6 in /usr/local/anaconda3/envs/ltcs180/lib/python3.10/site-packages (from spacy<3.6.0,>=3.5.0->en-core-web-lg==3.5.0) (2.0.8)\n",
      "Requirement already satisfied: spacy-loggers<2.0.0,>=1.0.0 in /usr/local/anaconda3/envs/ltcs180/lib/python3.10/site-packages (from spacy<3.6.0,>=3.5.0->en-core-web-lg==3.5.0) (1.0.4)\n",
      "Requirement already satisfied: requests<3.0.0,>=2.13.0 in /usr/local/anaconda3/envs/ltcs180/lib/python3.10/site-packages (from spacy<3.6.0,>=3.5.0->en-core-web-lg==3.5.0) (2.28.2)\n",
      "Requirement already satisfied: pathy>=0.10.0 in /usr/local/anaconda3/envs/ltcs180/lib/python3.10/site-packages (from spacy<3.6.0,>=3.5.0->en-core-web-lg==3.5.0) (0.10.1)\n",
      "Requirement already satisfied: langcodes<4.0.0,>=3.2.0 in /usr/local/anaconda3/envs/ltcs180/lib/python3.10/site-packages (from spacy<3.6.0,>=3.5.0->en-core-web-lg==3.5.0) (3.3.0)\n",
      "Requirement already satisfied: setuptools in /usr/local/anaconda3/envs/ltcs180/lib/python3.10/site-packages (from spacy<3.6.0,>=3.5.0->en-core-web-lg==3.5.0) (65.6.3)\n",
      "Requirement already satisfied: pydantic!=1.8,!=1.8.1,<1.11.0,>=1.7.4 in /usr/local/anaconda3/envs/ltcs180/lib/python3.10/site-packages (from spacy<3.6.0,>=3.5.0->en-core-web-lg==3.5.0) (1.10.4)\n",
      "Requirement already satisfied: srsly<3.0.0,>=2.4.3 in /usr/local/anaconda3/envs/ltcs180/lib/python3.10/site-packages (from spacy<3.6.0,>=3.5.0->en-core-web-lg==3.5.0) (2.4.5)\n",
      "Requirement already satisfied: preshed<3.1.0,>=3.0.2 in /usr/local/anaconda3/envs/ltcs180/lib/python3.10/site-packages (from spacy<3.6.0,>=3.5.0->en-core-web-lg==3.5.0) (3.0.8)\n",
      "Requirement already satisfied: jinja2 in /usr/local/anaconda3/envs/ltcs180/lib/python3.10/site-packages (from spacy<3.6.0,>=3.5.0->en-core-web-lg==3.5.0) (3.1.2)\n",
      "Requirement already satisfied: typer<0.8.0,>=0.3.0 in /usr/local/anaconda3/envs/ltcs180/lib/python3.10/site-packages (from spacy<3.6.0,>=3.5.0->en-core-web-lg==3.5.0) (0.7.0)\n",
      "Requirement already satisfied: packaging>=20.0 in /usr/local/anaconda3/envs/ltcs180/lib/python3.10/site-packages (from spacy<3.6.0,>=3.5.0->en-core-web-lg==3.5.0) (23.0)\n",
      "Requirement already satisfied: cymem<2.1.0,>=2.0.2 in /usr/local/anaconda3/envs/ltcs180/lib/python3.10/site-packages (from spacy<3.6.0,>=3.5.0->en-core-web-lg==3.5.0) (2.0.7)\n",
      "Requirement already satisfied: spacy-legacy<3.1.0,>=3.0.11 in /usr/local/anaconda3/envs/ltcs180/lib/python3.10/site-packages (from spacy<3.6.0,>=3.5.0->en-core-web-lg==3.5.0) (3.0.12)\n",
      "Requirement already satisfied: thinc<8.2.0,>=8.1.0 in /usr/local/anaconda3/envs/ltcs180/lib/python3.10/site-packages (from spacy<3.6.0,>=3.5.0->en-core-web-lg==3.5.0) (8.1.7)\n",
      "Requirement already satisfied: wasabi<1.2.0,>=0.9.1 in /usr/local/anaconda3/envs/ltcs180/lib/python3.10/site-packages (from spacy<3.6.0,>=3.5.0->en-core-web-lg==3.5.0) (1.1.1)\n",
      "Requirement already satisfied: numpy>=1.15.0 in /usr/local/anaconda3/envs/ltcs180/lib/python3.10/site-packages (from spacy<3.6.0,>=3.5.0->en-core-web-lg==3.5.0) (1.24.1)\n",
      "Requirement already satisfied: tqdm<5.0.0,>=4.38.0 in /usr/local/anaconda3/envs/ltcs180/lib/python3.10/site-packages (from spacy<3.6.0,>=3.5.0->en-core-web-lg==3.5.0) (4.64.1)\n",
      "Requirement already satisfied: murmurhash<1.1.0,>=0.28.0 in /usr/local/anaconda3/envs/ltcs180/lib/python3.10/site-packages (from spacy<3.6.0,>=3.5.0->en-core-web-lg==3.5.0) (1.0.9)\n",
      "Requirement already satisfied: typing-extensions>=4.2.0 in /usr/local/anaconda3/envs/ltcs180/lib/python3.10/site-packages (from pydantic!=1.8,!=1.8.1,<1.11.0,>=1.7.4->spacy<3.6.0,>=3.5.0->en-core-web-lg==3.5.0) (4.4.0)\n",
      "Requirement already satisfied: certifi>=2017.4.17 in /usr/local/anaconda3/envs/ltcs180/lib/python3.10/site-packages (from requests<3.0.0,>=2.13.0->spacy<3.6.0,>=3.5.0->en-core-web-lg==3.5.0) (2022.12.7)\n",
      "Requirement already satisfied: idna<4,>=2.5 in /usr/local/anaconda3/envs/ltcs180/lib/python3.10/site-packages (from requests<3.0.0,>=2.13.0->spacy<3.6.0,>=3.5.0->en-core-web-lg==3.5.0) (3.4)\n",
      "Requirement already satisfied: urllib3<1.27,>=1.21.1 in /usr/local/anaconda3/envs/ltcs180/lib/python3.10/site-packages (from requests<3.0.0,>=2.13.0->spacy<3.6.0,>=3.5.0->en-core-web-lg==3.5.0) (1.26.14)\n",
      "Requirement already satisfied: charset-normalizer<4,>=2 in /usr/local/anaconda3/envs/ltcs180/lib/python3.10/site-packages (from requests<3.0.0,>=2.13.0->spacy<3.6.0,>=3.5.0->en-core-web-lg==3.5.0) (3.0.1)\n",
      "Requirement already satisfied: blis<0.8.0,>=0.7.8 in /usr/local/anaconda3/envs/ltcs180/lib/python3.10/site-packages (from thinc<8.2.0,>=8.1.0->spacy<3.6.0,>=3.5.0->en-core-web-lg==3.5.0) (0.7.9)\n",
      "Requirement already satisfied: confection<1.0.0,>=0.0.1 in /usr/local/anaconda3/envs/ltcs180/lib/python3.10/site-packages (from thinc<8.2.0,>=8.1.0->spacy<3.6.0,>=3.5.0->en-core-web-lg==3.5.0) (0.0.4)\n",
      "Requirement already satisfied: click<9.0.0,>=7.1.1 in /usr/local/anaconda3/envs/ltcs180/lib/python3.10/site-packages (from typer<0.8.0,>=0.3.0->spacy<3.6.0,>=3.5.0->en-core-web-lg==3.5.0) (8.1.3)\n",
      "Requirement already satisfied: MarkupSafe>=2.0 in /usr/local/anaconda3/envs/ltcs180/lib/python3.10/site-packages (from jinja2->spacy<3.6.0,>=3.5.0->en-core-web-lg==3.5.0) (2.1.1)\n",
      "\u001b[38;5;2m✔ Download and installation successful\u001b[0m\n",
      "You can now load the package via spacy.load('en_core_web_lg')\n"
     ]
    }
   ],
   "source": [
    "##  We Need to install a language model first\n",
    "#!python -m spacy download en_core_web_lg"
   ]
  },
  {
   "cell_type": "code",
   "execution_count": 33,
   "metadata": {},
   "outputs": [],
   "source": [
    "## We also need to import spacy and load the model we just dowloaded\n",
    "import spacy\n",
    "\n",
    "nlp = spacy.load('en_core_web_lg')"
   ]
  },
  {
   "cell_type": "code",
   "execution_count": 34,
   "metadata": {},
   "outputs": [],
   "source": [
    "## We process the document with proccessing pipeline 'nlp'. We go through each document and convert them into a list of annotated texts. \n",
    "docs = [nlp(doc) for doc in corpus]"
   ]
  },
  {
   "attachments": {},
   "cell_type": "markdown",
   "metadata": {},
   "source": [
    "### We now proceed to extract the lemmas from our annotated documents. A lemma is the form of the word that you find in the dictionary. Lemmatization reduces multiple forms of a word to one. For instance the lemmatizer reduces \"went\", \"gone\" to \"go\". We also take the change to get rid of stop words Stop words are words which are very common but carry little meaning; for instance \"the\", \"of\", \"a\", are stop words. \n"
   ]
  },
  {
   "cell_type": "code",
   "execution_count": 35,
   "metadata": {},
   "outputs": [
    {
     "name": "stdout",
     "output_type": "stream",
     "text": [
      "[['Jhon', 'see', 'bus', 'come'], ['John', 'see', 'bus', 'approach'], ['Maria', 'watch', 'coach', 'near']]\n"
     ]
    }
   ],
   "source": [
    "lemmatized_corpus = []\n",
    "\n",
    "for doc in docs:\n",
    "    lemmatized_list = [t.lemma_ for t in doc if not t.is_stop]\n",
    "    lemmatized_corpus.append(lemmatized_list)\n",
    "\n",
    "print(lemmatized_corpus)\n"
   ]
  },
  {
   "attachments": {},
   "cell_type": "markdown",
   "metadata": {},
   "source": [
    "Now I have a term document matrix (TDM) with fewer words and, therefore, can see some similarities emerging\n",
    "\n",
    "|      | Jhon | ~~saw~~  | bus*  | come* | John | see* | ~~buses~~ | approach* | Maria | watch* | coach | near* |\n",
    "| ---- | ---- | ---- | ---- | ------ | ---- | ---- | ----- | ----------- | ----- | ------- | ----- | ------- |\n",
    "| doc1 | 1    | 0    | 1    | 1      | 0    | 1    | 0     | 0           | 0     | 0       | 0     | 0       |\n",
    "| doc2 | 0    | 0    | 1    | 0      | 1    | 1    | 0     | 1           | 0     | 0       | 0     | 0       |\n",
    "| doc3 | 0    | 0    | 0    | 0      | 0    | 0    | 0     | 0           | 1     | 1       | 1     | 1       |"
   ]
  },
  {
   "attachments": {},
   "cell_type": "markdown",
   "metadata": {},
   "source": [
    "#### But these three docs are more similar than the matrix shows, because:\n",
    "- John, Jhon, and Maria are PERSONAL NAMES\n",
    "- the verbs 'come','approach' and 'near', and 'see' and 'watch' have similar meanings\n",
    "- the nouns bus and coach are synonyms"
   ]
  },
  {
   "attachments": {},
   "cell_type": "markdown",
   "metadata": {},
   "source": [
    "|      | NAME | PERCEPTION | VEHICLE | VERB(movement) | \n",
    "| ---- | ---- | ---- | ---- | ------ | \n",
    "| doc1 | 1    | 1   | 1    | 1      | \n",
    "| doc2 | 1    | 1    | 1    | 1      | \n",
    "| doc3 | 1    | 1    | 1    | 1      |     | "
   ]
  },
  {
   "attachments": {},
   "cell_type": "markdown",
   "metadata": {},
   "source": [
    "But this matrix is not perfect neither because it shows our three documents being identical, but they are not.  Here is when word vectors added to the document vector can be helful. "
   ]
  },
  {
   "attachments": {},
   "cell_type": "markdown",
   "metadata": {},
   "source": [
    "### word2vec\n",
    "> The word2vec algorithm uses a neural network model to learn **word associations** from a large corpus of text. Once trained, such a model can **detect synonymous words** or suggest additional words for a partial sentence.  word2vec represents each distinct word with a particular list of numbers called a **vector**. The **vectors** are chosen carefully such that they **capture the semantic and syntactic qualities of words**; as such, a simple mathematical function (cosine similarity) can indicate the level of semantic similarity between the words represented by those vectors. "
   ]
  },
  {
   "attachments": {},
   "cell_type": "markdown",
   "metadata": {},
   "source": [
    "![word2vecalgo](https://fasttext.cc/img/cbo_vs_skipgram.png)"
   ]
  },
  {
   "attachments": {},
   "cell_type": "markdown",
   "metadata": {},
   "source": [
    "> CBOW takes a context of surrounding words as input and tries to predict the target word. For example, given the context \"sellling these __ leather jackets\", the goal is to predict the target word \"fine\". In CBOW, the network takes the average of the word vectors of the context words as input and tries to predict the target word.\n",
    "\n",
    "> Skip-gram, on the other hand, takes a target word as input and tries to predict the context words. For example, given the target word \"fine\", the goal is to predict the context words \"sellling these leather jackets\". In Skip-gram, the network takes the target word's vector as input and tries to predict the surrounding context words."
   ]
  },
  {
   "attachments": {},
   "cell_type": "markdown",
   "metadata": {},
   "source": [
    "Let use spaCy again to loot at the vector of the word 'queer'."
   ]
  },
  {
   "cell_type": "code",
   "execution_count": 36,
   "metadata": {},
   "outputs": [
    {
     "name": "stdout",
     "output_type": "stream",
     "text": [
      "[ 0.56448   4.2793   -0.37313  -0.6329   -0.24329   4.2815    3.543\n",
      "  1.2521   -1.1709    1.4632    1.5757   -1.4775    0.54986   2.558\n",
      "  2.3112   -1.0085   -0.77477  -0.77927  -3.0723    3.047     0.59854\n",
      " -0.56118   0.081339 -6.5437    2.1899    0.48863  -0.86958  -0.8265\n",
      "  0.54648  -0.6226   -4.3823   -3.9592   -3.0384   -2.1234   -2.8488\n",
      "  2.5948   -1.388    -6.0594   -0.26     -5.0839   -1.7021   -0.86231\n",
      " -3.2109    0.5719   -1.2782    0.61421  -2.3186   -0.57296   2.9423\n",
      "  5.1486   -4.305     0.64642   0.33949   0.26661  -1.0494   -1.167\n",
      " -0.089425  0.80106   2.5772    1.5188   -1.2027    1.5221    0.29338\n",
      "  1.7862   -3.8811   -0.087173 -1.6824   -3.3513   -0.83147   0.43474\n",
      " -4.0362   -0.29637  -1.4015   -0.6127    0.46407  -0.43468  -0.25611\n",
      "  1.0933    1.1818    2.6712    0.35092   2.1301    5.0566   -2.6372\n",
      "  6.7565    2.4958   -2.027    -3.2152   -1.1276    0.15799   0.48716\n",
      " -3.0721    1.1125    0.44987  -1.9486   -0.91967  -0.025917  0.85293\n",
      " -0.24973  -3.3258    0.1931    1.9999   -1.2077    6.1806   -3.3534\n",
      "  0.84398   1.8579    2.8611   -1.3282   -0.82743  -0.30484   1.188\n",
      "  1.144    -0.11054   3.0255   -0.69875  -0.82198  -2.1272   -3.4025\n",
      " -0.585     4.0133    0.34985   0.18586   0.68744  -0.33429  -1.6267\n",
      " -1.0367   -1.2155    1.3584   -0.81737  -2.3922    0.62397  -0.53225\n",
      " -2.0162   -5.0644    3.4789    0.030087 -0.088952  2.3143   -0.30657\n",
      " -1.2467    1.0076    1.078     2.3607   -2.0732   -3.3467   -0.031356\n",
      "  2.1724   -0.89919   2.9595    0.33618   1.7153    0.34894  -1.7619\n",
      " -0.93452   3.7979   -0.64242   5.4935   -0.22376  -0.56629  -0.15836\n",
      " -0.8276   -1.6029    0.33508  -0.33498  -1.9671    0.42798  -3.6573\n",
      "  1.4176   -1.0395    1.0658   -1.6018    1.514    -0.24914  -1.798\n",
      " -1.0127    1.9539    1.6003   -0.06954  -1.9274    0.43239  -2.2731\n",
      "  2.0585   -2.9821   -0.42057  -0.074097 -1.9932    1.0655    2.2095\n",
      " -0.17705  -2.8837    0.52161   3.6552    2.421    -1.244    -1.5145\n",
      " -4.9348    4.3888   -4.6567    1.9401    1.1378   -3.3007   -0.87304\n",
      "  3.8313   -1.91      2.9109   -1.0352   -4.6238    0.5696   -1.4796\n",
      "  3.4318   -1.851    -1.468    -2.465    -1.9706    0.36998  -4.2287\n",
      "  2.5937    2.254     3.9943   -0.86881   1.9049    2.3725    2.5809\n",
      " -1.6498   -1.8129    0.63222  -3.1098    0.78411   0.03265   1.3698\n",
      "  1.002     2.68     -4.2886   -1.3964    0.083016  2.0942    3.8458\n",
      " -1.1466    1.8737    0.41186  -1.4307    0.95987  -0.44532   2.1289\n",
      " -5.2066   -2.6185   -2.7873    3.4978    0.57107  -0.11024   0.35924\n",
      "  1.1672    1.4075    0.87107   0.7323    2.8986    3.8189   -1.7408\n",
      "  0.10506   2.4516   -3.5906    0.21439   0.52642  -0.63651   0.011593\n",
      "  0.63867  -1.2911   -0.87584   2.1028   -1.5295   -1.7022   -1.702\n",
      " -1.2792    3.2164   -0.27019   0.98219   2.25     -2.7889    0.052188\n",
      " -2.4745    0.13724   1.3341   -0.1289   -1.0509    3.0385    1.7095\n",
      "  0.29973   1.4883   -0.054859  1.3036    0.28626   1.6689   -1.945\n",
      "  0.88893  -2.9469   -0.32661  -1.2871   -2.683    -2.2372  ]\n"
     ]
    }
   ],
   "source": [
    "\n",
    "doc_vec = nlp('queer')\n",
    "\n",
    "vector = doc_vec[0].vector\n",
    "\n",
    "print(vector)"
   ]
  },
  {
   "attachments": {},
   "cell_type": "markdown",
   "metadata": {},
   "source": [
    "And finally let's look at the nearest neighbors in the vector space of the word 'queer'."
   ]
  },
  {
   "cell_type": "code",
   "execution_count": 37,
   "metadata": {},
   "outputs": [
    {
     "name": "stdout",
     "output_type": "stream",
     "text": [
      "['queer', 'Xueer', 'queerly', 'genderqueer', 'queers', 'lesbian', 'LGBTQ+', 'gay', 'LGBTQIA+', 'LGBTQIA', 'Genderqueer', 'LGBTQI+', 'LGBTQI', 'LGBTQA', 'LGBTQ2', 'LGBTQ', 'queercore', 'LGBT+', 'LGBTs', 'queef']\n"
     ]
    }
   ],
   "source": [
    "## We have to import numpy first because vectors are handled as numerical arrays.\n",
    "import numpy as np\n",
    "\n",
    "nb = nlp.vocab.vectors.most_similar(\n",
    "    np.asarray([nlp.vocab.vectors[nlp.vocab.strings['queer']]]), n=20)\n",
    "words = [nlp.vocab.strings[w] for w in nb[0][0]]\n",
    "\n",
    "print(words)"
   ]
  },
  {
   "attachments": {},
   "cell_type": "markdown",
   "metadata": {},
   "source": [
    "There exist an implementation of word2vec that produces both word vectors and vertorical representation of the doc. "
   ]
  },
  {
   "cell_type": "code",
   "execution_count": 38,
   "metadata": {},
   "outputs": [
    {
     "name": "stdout",
     "output_type": "stream",
     "text": [
      "Item  0 : [-0.03791686 -0.05817032  0.05002084 -0.09284069  0.02735245]\n",
      "Item  1 : [-0.00832447  0.04497933  0.02326251 -0.06246972 -0.07789601]\n",
      "Item  2 : [-0.06540559 -0.02823052 -0.08888328 -0.00194886  0.00615782]\n"
     ]
    }
   ],
   "source": [
    "\n",
    "import gensim\n",
    "from gensim.models.doc2vec import Doc2Vec, TaggedDocument\n",
    "\n",
    "\n",
    "documents = [TaggedDocument(doc, [i]) for i, doc in enumerate(corpus)]\n",
    "\n",
    "model = Doc2Vec(documents, vector_size=5, window=2, min_count=1, workers=4)\n",
    "\n",
    "for i, item in enumerate(corpus):\n",
    "    vector = model.infer_vector(item.split())\n",
    "    print(\"Item \", i, \":\", vector)\n"
   ]
  },
  {
   "cell_type": "code",
   "execution_count": 39,
   "metadata": {},
   "outputs": [
    {
     "data": {
      "image/png": "[encoded data removed]",
      "text/plain": [
       "<Figure size 640x480 with 1 Axes>"
      ]
     },
     "metadata": {},
     "output_type": "display_data"
    }
   ],
   "source": [
    "import gensim\n",
    "import matplotlib.pyplot as plt\n",
    "from gensim.models.doc2vec import Doc2Vec, TaggedDocument\n",
    "\n",
    "### I am adding here one more sentence to contrast with the other three\n",
    "corpus = [\"John saw the bus coming\",\n",
    "\"John sees the buses approaching\",\n",
    "\"Maria watches the coach nearing\",\n",
    "\"the Rabbit left without saying anything\"]\n",
    "\n",
    "documents = [TaggedDocument(doc, [i]) for i, doc in enumerate(corpus)]\n",
    "\n",
    "model = Doc2Vec(documents, vector_size=2, window=2, min_count=1, workers=4)\n",
    "\n",
    "vectors = [model.infer_vector(item.split()) for item in corpus]\n",
    "\n",
    "fig, ax = plt.subplots()\n",
    "\n",
    "for i, vector in enumerate(vectors):\n",
    "    ax.scatter(*vector, label=f\"Document {i}\")\n",
    "\n",
    "ax.legend()\n",
    "ax.set_xlabel(\"X\")\n",
    "ax.set_ylabel(\"Y\")\n",
    "ax.set_title(\"Doc2Vec Vectors\")\n",
    "\n",
    "plt.show()\n"
   ]
  }
 ],
 "metadata": {
  "kernelspec": {
   "display_name": "ltcs180",
   "language": "python",
   "name": "python3"
  },
  "language_info": {
   "codemirror_mode": {
    "name": "ipython",
    "version": 3
   },
   "file_extension": ".py",
   "mimetype": "text/x-python",
   "name": "python",
   "nbconvert_exporter": "python",
   "pygments_lexer": "ipython3",
   "version": "3.10.8"
  },
  "orig_nbformat": 4,
  "vscode": {
   "interpreter": {
    "hash": "86f47c50a36ea4783d4fc68b10e8fa35f36640eb8f30ee6218947b2e2373532f"
   }
  }
 },
 "nbformat": 4,
 "nbformat_minor": 2
}
